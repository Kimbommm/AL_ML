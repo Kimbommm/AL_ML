{
 "cells": [
  {
   "cell_type": "markdown",
   "metadata": {},
   "source": [
    "1.1/ CÁC ĐỊNH DẠNG SỐ, BOOLEAN VÀ KÍ TỰ"
   ]
  },
  {
   "cell_type": "markdown",
   "metadata": {},
   "source": [
    "1.1.1/ Kiểu numeric (là kiểu số bao gồm số thập phân và số nguyên)"
   ]
  },
  {
   "cell_type": "code",
   "execution_count": null,
   "metadata": {},
   "outputs": [],
   "source": [
    "import numpy as np"
   ]
  },
  {
   "cell_type": "code",
   "execution_count": 1,
   "metadata": {},
   "outputs": [
    {
     "name": "stdout",
     "output_type": "stream",
     "text": [
      "2.5 0.5 3.0 0.3\n"
     ]
    }
   ],
   "source": [
    "x = 1.5\n",
    "add = x+1\n",
    "minus = x-1\n",
    "mul = x*2\n",
    "div = x/5\n",
    "print(add, minus, mul, div)"
   ]
  },
  {
   "cell_type": "markdown",
   "metadata": {},
   "source": [
    "Khi thực hiện các phép +,-,*,/ giữa hai số khác nhau về định dạng dữ liệu thì định dạng dữ liệu của kết quả trả về sẽ có định dạng dữ liệu là kiểu được ưu tiên hơn. Thứ tự ưu tiên: float > integer >  boolean."
   ]
  },
  {
   "cell_type": "code",
   "execution_count": 2,
   "metadata": {},
   "outputs": [
    {
     "name": "stdout",
     "output_type": "stream",
     "text": [
      "<class 'float'>\n",
      "<class 'float'>\n",
      "<class 'float'>\n",
      "<class 'float'>\n"
     ]
    }
   ],
   "source": [
    "x = 2.5\n",
    "y = 1\n",
    "print(type(x+y))\n",
    "print(type(x-y))\n",
    "print(type(x*y))\n",
    "print(type(x/y))"
   ]
  },
  {
   "cell_type": "markdown",
   "metadata": {},
   "source": [
    "1.1.2/ Kiểu boolean"
   ]
  },
  {
   "cell_type": "code",
   "execution_count": 3,
   "metadata": {},
   "outputs": [
    {
     "name": "stdout",
     "output_type": "stream",
     "text": [
      "and:  False False\n",
      "or:  True True\n",
      "x*y:  0\n",
      "x+y:  1\n",
      "x/z:  0.2\n"
     ]
    }
   ],
   "source": [
    "x = True\n",
    "y = False\n",
    "z = 5\n",
    "print('and: ', x&y, x and y)\n",
    "print('or: ', x|y, x or y)\n",
    "print('x*y: ', x*y)\n",
    "print('x+y: ', x+y)\n",
    "print('x/z: ', x/z)"
   ]
  },
  {
   "cell_type": "code",
   "execution_count": null,
   "metadata": {},
   "outputs": [],
   "source": [
    "#Các phép toán so sánh: !=, ==, >, <\n",
    "x = 5\n",
    "y = 6\n",
    "print('x==y: ', x==y)\n",
    "print('x!=y: ', x!=y)"
   ]
  },
  {
   "cell_type": "markdown",
   "metadata": {},
   "source": [
    "1.1.3/ Kiểu kí tự"
   ]
  },
  {
   "cell_type": "code",
   "execution_count": 2,
   "metadata": {},
   "outputs": [
    {
     "name": "stdout",
     "output_type": "stream",
     "text": [
      "<class 'str'>\n"
     ]
    }
   ],
   "source": [
    "x = \"AI is my love\"\n",
    "print(type(x))"
   ]
  },
  {
   "cell_type": "code",
   "execution_count": 3,
   "metadata": {},
   "outputs": [
    {
     "name": "stdout",
     "output_type": "stream",
     "text": [
      "I said: AI is my love\n"
     ]
    }
   ],
   "source": [
    "y = \"I said: \"\n",
    "print(y+x)"
   ]
  },
  {
   "cell_type": "code",
   "execution_count": 4,
   "metadata": {},
   "outputs": [
    {
     "data": {
      "text/plain": [
       "['AI', 'is', 'my', 'love']"
      ]
     },
     "execution_count": 4,
     "metadata": {},
     "output_type": "execute_result"
    }
   ],
   "source": [
    "#Chia chuổi ký tự theo khoảng trống\n",
    "x.split()"
   ]
  },
  {
   "cell_type": "markdown",
   "metadata": {},
   "source": [
    "1.2. Định dạng sequence\n",
    "Định dạng sequence là định dạng mà cho phép chúng ta lưu được nhiều giá trị trong cùng một biến."
   ]
  },
  {
   "cell_type": "markdown",
   "metadata": {},
   "source": [
    "1.2.1. List\n",
    "Một list sẽ có hai tính chất là iterable (có thể duyệt qua các phần tử bên trong nó) và mutable (có thể thay đổi giá trị bên trong nó)."
   ]
  },
  {
   "cell_type": "markdown",
   "metadata": {},
   "source": [
    "A./Các cú pháp thông dụng"
   ]
  },
  {
   "cell_type": "code",
   "execution_count": 6,
   "metadata": {},
   "outputs": [
    {
     "name": "stdout",
     "output_type": "stream",
     "text": [
      "list1:  ['physics', 'chemistry', 1997, 2000]\n"
     ]
    }
   ],
   "source": [
    "# Khởi tạo list\n",
    "list1 = ['physics', 'chemistry', 1997, 2000] # Hoặc dùng từ khoá list thay cho []: list1 = list('physics', 'chemistry', 1997, 2000)\n",
    "print('list1: ', list1)"
   ]
  },
  {
   "cell_type": "code",
   "execution_count": null,
   "metadata": {},
   "outputs": [],
   "source": [
    "# Duyệt qua các phần tử trong list. Tính chất Iterable\n",
    "for item in list1:\n",
    "    print(item)"
   ]
  },
  {
   "cell_type": "code",
   "execution_count": 7,
   "metadata": {},
   "outputs": [
    {
     "name": "stdout",
     "output_type": "stream",
     "text": [
      "list1 update:  ['math', 'chemistry', 1997, 2000]\n"
     ]
    }
   ],
   "source": [
    "# Cập nhật 1 phần tử trong list. Tính chất mutable\n",
    "list1[0] = 'math'\n",
    "print('list1 update: ', list1)"
   ]
  },
  {
   "cell_type": "code",
   "execution_count": 8,
   "metadata": {},
   "outputs": [
    {
     "name": "stdout",
     "output_type": "stream",
     "text": [
      "list1 after delete:  ['math', 'chemistry', 1997]\n"
     ]
    }
   ],
   "source": [
    "# Xóa một phần tử trong list\n",
    "list1.remove(2000)\n",
    "print('list1 after delete: ', list1)"
   ]
  },
  {
   "cell_type": "code",
   "execution_count": 9,
   "metadata": {},
   "outputs": [
    {
     "name": "stdout",
     "output_type": "stream",
     "text": [
      "length of list1:  3\n"
     ]
    }
   ],
   "source": [
    "# Độ dài của 1 list:\n",
    "print('length of list1: ', len(list1))"
   ]
  },
  {
   "cell_type": "code",
   "execution_count": 10,
   "metadata": {},
   "outputs": [
    {
     "name": "stdout",
     "output_type": "stream",
     "text": [
      "list1 after append:  ['math', 'chemistry', 1997, 2019]\n"
     ]
    }
   ],
   "source": [
    "# Gán thêm phần tử cho 1 list:\n",
    "list1.append(2019)\n",
    "print('list1 after append: ', list1)"
   ]
  },
  {
   "cell_type": "code",
   "execution_count": 11,
   "metadata": {},
   "outputs": [
    {
     "name": "stdout",
     "output_type": "stream",
     "text": [
      "list1 and list2 after concate:  ['math', 'chemistry', 1997, 2019, 'people', 'teacher', 'student']\n"
     ]
    }
   ],
   "source": [
    "# concatenate 2 list với nhau\n",
    "list2 = ['people', 'teacher', 'student']\n",
    "list_concate = list1 + list2\n",
    "print('list1 and list2 after concate: ', list_concate)"
   ]
  },
  {
   "cell_type": "code",
   "execution_count": 12,
   "metadata": {},
   "outputs": [
    {
     "name": "stdout",
     "output_type": "stream",
     "text": [
      "list1 and list2 after concate:  ['math', 'chemistry', 1997, 2019, 'people', 'teacher', 'student']\n"
     ]
    }
   ],
   "source": [
    "# hoặc chúng ta có thể concate thông qua phép cộng\n",
    "list3 = list1\n",
    "list3 += list2\n",
    "print('list1 and list2 after concate: ', list3)"
   ]
  },
  {
   "cell_type": "code",
   "execution_count": 13,
   "metadata": {},
   "outputs": [
    {
     "name": "stdout",
     "output_type": "stream",
     "text": [
      "list1 append list2:  ['math', 'chemistry', 1997, 2019, 'people', 'teacher', 'student', ['people', 'teacher', 'student']]\n"
     ]
    }
   ],
   "source": [
    "# Lưu ý nếu ta dùng lệnh append để append một list thì sẽ tự động tạo thêm một phần tử mới ở vị trí cuối cùng chứa list được append\n",
    "list3.append(list2)\n",
    "print('list1 append list2: ', list3)"
   ]
  },
  {
   "cell_type": "code",
   "execution_count": 14,
   "metadata": {},
   "outputs": [
    {
     "name": "stdout",
     "output_type": "stream",
     "text": [
      "item 3 indice of list1:  2019\n",
      "list1 after pop 3 indice:  ['math', 'chemistry', 1997, 'people', 'teacher', 'student', ['people', 'teacher', 'student']]\n"
     ]
    }
   ],
   "source": [
    "# trích xuất 1 phần tử trong list\n",
    "item3 = list1.pop(3)\n",
    "print('item 3 indice of list1: ', item3)\n",
    "print('list1 after pop 3 indice: ', list1)"
   ]
  },
  {
   "cell_type": "code",
   "execution_count": 15,
   "metadata": {},
   "outputs": [
    {
     "name": "stdout",
     "output_type": "stream",
     "text": [
      "2\n"
     ]
    }
   ],
   "source": [
    "#Tìm ra index của một phần tử nằm trong list theo giá trị.\n",
    "list4 = ['vi', 'mot', 'cong', 'dong', 'AI', 'vung', 'manh', 'hon']\n",
    "# Tìm ra index của từ đầu tiên có giá trị là 'cong'\n",
    "print(list4.index('cong'))"
   ]
  },
  {
   "cell_type": "code",
   "execution_count": 16,
   "metadata": {},
   "outputs": [
    {
     "name": "stdout",
     "output_type": "stream",
     "text": [
      "['vi', 'mot', 'cong', 'dong', 'AI', 'vung', 'manh', 'hon', 'khanh', 'blog']\n"
     ]
    }
   ],
   "source": [
    "list4.extend(['khanh', 'blog']) # khác nhau với append\n",
    "print(list4)"
   ]
  },
  {
   "cell_type": "code",
   "execution_count": null,
   "metadata": {},
   "outputs": [],
   "source": [
    "#thêm vào 1 vị trí bất kì của list\n",
    "list4.insert(5, 'Viet Nam')\n",
    "print(list4)"
   ]
  },
  {
   "cell_type": "markdown",
   "metadata": {},
   "source": [
    "B./ Vòng for đối vơi list"
   ]
  },
  {
   "cell_type": "code",
   "execution_count": 17,
   "metadata": {},
   "outputs": [
    {
     "name": "stdout",
     "output_type": "stream",
     "text": [
      "vi\n",
      "mot\n",
      "cong\n",
      "dong\n",
      "AI\n",
      "vung\n",
      "manh\n",
      "hon\n",
      "khanh\n",
      "blog\n"
     ]
    }
   ],
   "source": [
    "for item in list4:\n",
    "  print(item)"
   ]
  },
  {
   "cell_type": "code",
   "execution_count": 18,
   "metadata": {},
   "outputs": [
    {
     "data": {
      "text/plain": [
       "['vi', 'mot', 'cong', 'dong', 'AI', 'vung', 'manh', 'hon', 'khanh', 'blog']"
      ]
     },
     "execution_count": 18,
     "metadata": {},
     "output_type": "execute_result"
    }
   ],
   "source": [
    "#cách viết ngắn gọn hơn và kết qủa trả về là 1 list\n",
    "[item for item in list4]"
   ]
  },
  {
   "cell_type": "markdown",
   "metadata": {},
   "source": [
    "C./Truy cập phần tử dựa theo chỉ số INDEX"
   ]
  },
  {
   "cell_type": "code",
   "execution_count": 20,
   "metadata": {},
   "outputs": [
    {
     "name": "stdout",
     "output_type": "stream",
     "text": [
      "['math', 'chemistry', 1997, 'people', 'teacher', 'student', ['people', 'teacher', 'student']]\n"
     ]
    }
   ],
   "source": [
    "print(list1)"
   ]
  },
  {
   "cell_type": "code",
   "execution_count": 19,
   "metadata": {},
   "outputs": [
    {
     "name": "stdout",
     "output_type": "stream",
     "text": [
      "chemistry\n"
     ]
    }
   ],
   "source": [
    "# Truy cập vào phần tử 1 của list1\n",
    "print(list1[1])"
   ]
  },
  {
   "cell_type": "code",
   "execution_count": null,
   "metadata": {},
   "outputs": [],
   "source": [
    "# Truy cập vào phần tử có index từ 1->3.\n",
    "print('* From indices 1->3: list1[1:4]\\n', list1[1:4])"
   ]
  },
  {
   "cell_type": "code",
   "execution_count": null,
   "metadata": {},
   "outputs": [],
   "source": [
    "# Truy cập vào 2 index đầu tiên\n",
    "print('* 2 first indices: list1[:2]\\n', list1[:2])"
   ]
  },
  {
   "cell_type": "code",
   "execution_count": 21,
   "metadata": {},
   "outputs": [
    {
     "name": "stdout",
     "output_type": "stream",
     "text": [
      "* 2 last indices: list1[-2:]\n",
      " ['student', ['people', 'teacher', 'student']]\n"
     ]
    }
   ],
   "source": [
    "# Truy cập vào 2 index cuối cùng\n",
    "print('* 2 last indices: list1[-2:]\\n', list1[-2:])"
   ]
  },
  {
   "cell_type": "code",
   "execution_count": 22,
   "metadata": {},
   "outputs": [
    {
     "name": "stdout",
     "output_type": "stream",
     "text": [
      "* From first to -2 indices (2 orders to touch last): list1[:-2]\n",
      " ['math', 'chemistry', 1997, 'people', 'teacher']\n"
     ]
    }
   ],
   "source": [
    "# Truy cập vào các phần tử từ phần tử đầu tiên tới phần tử liền trước vị trí cuối cùng là hai vị trí.\n",
    "print('* From first to -2 indices (2 orders to touch last): list1[:-2]\\n', list1[:-2])\n"
   ]
  },
  {
   "cell_type": "code",
   "execution_count": null,
   "metadata": {},
   "outputs": [],
   "source": [
    "# Truy cập từ index thứ 2 đến index cuối cùng\n",
    "print('* From second indice to last indice: list1[2:]\\n', list1[2:])"
   ]
  },
  {
   "cell_type": "markdown",
   "metadata": {},
   "source": [
    "enumerate() là một hàm tích hợp trong Python, được sử dụng để lặp qua các phần tử của một iterable (như danh sách, tuple, hoặc chuỗi) và đồng thời trả về cả chỉ số (index) và giá trị của từng phần tử."
   ]
  },
  {
   "cell_type": "code",
   "execution_count": 23,
   "metadata": {},
   "outputs": [
    {
     "data": {
      "text/plain": [
       "['chemistry', 'people']"
      ]
     },
     "execution_count": 23,
     "metadata": {},
     "output_type": "execute_result"
    }
   ],
   "source": [
    "# Truy cập vào vị trí có indice 1 và 3 trong list1\n",
    "[item for (i, item) in enumerate(list1) if i in [1, 3]]"
   ]
  },
  {
   "cell_type": "markdown",
   "metadata": {},
   "source": [
    "D./ Các thành phần của một list có được phép trùng nhau?\n",
    "List cho phép các phần tử được trùng nhau. Tính chất này không được chấp nhận ở dictionary và set."
   ]
  },
  {
   "cell_type": "code",
   "execution_count": null,
   "metadata": {},
   "outputs": [],
   "source": [
    "list4 = ['machine', 'learning', 'algorithms', 'to', 'practice', 'practice']"
   ]
  },
  {
   "cell_type": "markdown",
   "metadata": {},
   "source": [
    "Ngoài ra các thành phần trong một list có thể khác nhau về định dạng. Bên dưới là list chứa thành phần vừa có kiểu ký tự và kiểu số."
   ]
  },
  {
   "cell_type": "code",
   "execution_count": null,
   "metadata": {},
   "outputs": [],
   "source": [
    "list4 = ['machine', 'learning', 'algorithms', 'to', 'practice', 2021]"
   ]
  },
  {
   "cell_type": "markdown",
   "metadata": {},
   "source": [
    "E./ Sort một list thì như thế nào ?"
   ]
  },
  {
   "cell_type": "code",
   "execution_count": 24,
   "metadata": {},
   "outputs": [
    {
     "name": "stdout",
     "output_type": "stream",
     "text": [
      "* normal sort list5: \n",
      " [1, 2, 4, 5, 7]\n",
      "* reverse sort list5: \n",
      " [7, 5, 4, 2, 1]\n"
     ]
    }
   ],
   "source": [
    "list5 = [4, 5, 1, 7, 2]\n",
    "# Sort tăng tiến\n",
    "list5.sort()\n",
    "print('* normal sort list5: \\n', list5)\n",
    "# Sort reverse đảo ngược\n",
    "list5.sort(reverse=True)\n",
    "print('* reverse sort list5: \\n', list5)"
   ]
  },
  {
   "cell_type": "markdown",
   "metadata": {},
   "source": [
    "Khi bạn sử dụng hàm sorted() để sắp xếp danh sách, nó không thay đổi danh sách ban đầu, mà chỉ trả về một bản sao của danh sách đã được sắp xếp."
   ]
  },
  {
   "cell_type": "code",
   "execution_count": null,
   "metadata": {},
   "outputs": [],
   "source": [
    "list5 = [4, 5, 1, 7, 2]\n",
    "print('* sorted(list5): \\n', sorted(list5))  # [1, 2, 4, 5, 7]\n",
    "print('* list5 sau khi sorted: \\n', list5)  # [4, 5, 1, 7, 2] (không thay đổi)"
   ]
  },
  {
   "cell_type": "markdown",
   "metadata": {},
   "source": [
    "SẮP XẾP THEO BIỂU THỨC LAMBDA"
   ]
  },
  {
   "cell_type": "code",
   "execution_count": 25,
   "metadata": {},
   "outputs": [
    {
     "data": {
      "text/plain": [
       "[4, 2, 5, 1, 7]"
      ]
     },
     "execution_count": 25,
     "metadata": {},
     "output_type": "execute_result"
    }
   ],
   "source": [
    "sorted(list5, key = lambda x: (x-3)**2)"
   ]
  },
  {
   "cell_type": "markdown",
   "metadata": {},
   "source": [
    "1.2.2. Tuple"
   ]
  },
  {
   "cell_type": "markdown",
   "metadata": {},
   "source": [
    "Tuple cũng tương tự như list nhưng là định dạng immutable, tức là không thể sửa, xóa, cập nhật."
   ]
  },
  {
   "cell_type": "markdown",
   "metadata": {},
   "source": [
    "Các phần tử của tuple được cách nhau bởi dấu phảy và bao quanh bởi ngoặc đơn."
   ]
  },
  {
   "cell_type": "markdown",
   "metadata": {},
   "source": [
    "Lưu ý: Tupple là định dạng immutatble tức là không thay đổi được. Chúng ta sẽ không thể thêm/sửa/xoá các phần tử của tupple. VD: Cập nhật tuple1[0] = 0 sẽ báo lỗi."
   ]
  },
  {
   "cell_type": "code",
   "execution_count": null,
   "metadata": {},
   "outputs": [],
   "source": [
    "# Khởi tạo tuple\n",
    "tuple1 = ('a', 'b', 'c', '2020')\n",
    "print('tuple1: ', tuple1)\n",
    "\n",
    "# Truy cập vào các phần tử của tuple\n",
    "for item in tuple1:\n",
    "  print(item)\n",
    "\n",
    "# Độ dài\n",
    "print('length tuple1: ', len(tuple1))\n",
    "\n",
    "# Concate 2 tuple\n",
    "tuple2 = ('x', 'y', 'z')\n",
    "tuple_concate = tuple1 + tuple2\n",
    "print('tuple concatenate: ', tuple_concate)\n",
    "\n",
    "# Truy cập vào phần tử đầu tiên\n",
    "tuple1[0]"
   ]
  },
  {
   "cell_type": "markdown",
   "metadata": {},
   "source": [
    "1.2.3/ Dictionary\n",
    "Mỗi một phần tử của dictionary được đặc trưng bởi một cặp {key: value}. Các phần tử ngăn cách nhau bởi dấu phảy và bao quanh dấu {}."
   ]
  },
  {
   "cell_type": "code",
   "execution_count": 28,
   "metadata": {},
   "outputs": [],
   "source": [
    "# Khởi tạo một dictionary\n",
    "dict1 = {'name': 'khanh', 'age': '27', 'job': 'AI research engineer', 'love': 'math'}"
   ]
  },
  {
   "cell_type": "code",
   "execution_count": 29,
   "metadata": {},
   "outputs": [
    {
     "name": "stdout",
     "output_type": "stream",
     "text": [
      "name:  khanh\n",
      "age:  27\n",
      "job:  AI research engineer\n",
      "love:  math\n"
     ]
    }
   ],
   "source": [
    "# In ra giá trị thông qua key\n",
    "print('name: ', dict1['name'])\n",
    "print('age: ', dict1['age'])\n",
    "print('job: ', dict1['job'])\n",
    "print('love: ', dict1['love'])"
   ]
  },
  {
   "cell_type": "markdown",
   "metadata": {},
   "source": [
    "Khi bạn gọi dict.items(), nó sẽ trả về một đối tượng giống như danh sách chứa các tuple. Mỗi tuple là một cặp (key, value) tương ứng từ từ điển"
   ]
  },
  {
   "cell_type": "code",
   "execution_count": 30,
   "metadata": {},
   "outputs": [
    {
     "name": "stdout",
     "output_type": "stream",
     "text": [
      "dict_items([('name', 'khanh'), ('age', '27'), ('job', 'AI research engineer'), ('love', 'math')])\n"
     ]
    }
   ],
   "source": [
    "print(dict1.items())"
   ]
  },
  {
   "cell_type": "code",
   "execution_count": 31,
   "metadata": {},
   "outputs": [
    {
     "name": "stdout",
     "output_type": "stream",
     "text": [
      "name: khanh\n",
      "age: 27\n",
      "job: AI research engineer\n",
      "love: math\n"
     ]
    }
   ],
   "source": [
    "#sử dụng vòng lặp để lấy ra các giá trị \n",
    "#dùng items() để duyệt qua cả khóa và giá trị\n",
    "for key, value in dict1.items():\n",
    "    print(f'{key}: {value}')\n"
   ]
  },
  {
   "cell_type": "code",
   "execution_count": 32,
   "metadata": {},
   "outputs": [
    {
     "name": "stdout",
     "output_type": "stream",
     "text": [
      "love update:  girl\n"
     ]
    }
   ],
   "source": [
    "# Cập nhật giá trị một phần tử\n",
    "dict1['love'] = 'girl'\n",
    "print('love update: ', dict1['love'])"
   ]
  },
  {
   "cell_type": "code",
   "execution_count": 33,
   "metadata": {},
   "outputs": [
    {
     "name": "stdout",
     "output_type": "stream",
     "text": [
      "dict1 length:  4\n"
     ]
    }
   ],
   "source": [
    "# Độ dài của dict1\n",
    "print('dict1 length: ', len(dict1))"
   ]
  },
  {
   "cell_type": "code",
   "execution_count": 34,
   "metadata": {},
   "outputs": [
    {
     "name": "stdout",
     "output_type": "stream",
     "text": [
      "all keys:  dict_keys(['name', 'age', 'job', 'love'])\n"
     ]
    }
   ],
   "source": [
    "# Truy cập vào toàn bộ các key\n",
    "print('all keys: ', dict1.keys())"
   ]
  },
  {
   "cell_type": "code",
   "execution_count": null,
   "metadata": {},
   "outputs": [],
   "source": [
    "keys_view = dict1.keys()\n",
    "# Chuyển các key thành danh sách\n",
    "keys_list = list(keys_view)\n",
    "print(keys_list)  # ['name', 'age', 'job', 'love']"
   ]
  },
  {
   "cell_type": "code",
   "execution_count": 35,
   "metadata": {},
   "outputs": [
    {
     "name": "stdout",
     "output_type": "stream",
     "text": [
      "all values:  dict_values(['khanh', '27', 'AI research engineer', 'girl'])\n"
     ]
    }
   ],
   "source": [
    "# Truy cập vào toàn bộ giá trị\n",
    "print('all values: ', dict1.values())"
   ]
  },
  {
   "cell_type": "code",
   "execution_count": 36,
   "metadata": {},
   "outputs": [
    {
     "name": "stdout",
     "output_type": "stream",
     "text": [
      "dict after update:  {'name': 'khanh', 'age': '27', 'job': 'AI research engineer', 'love': 'girl', 'IQ': '145'}\n"
     ]
    }
   ],
   "source": [
    "# Thêm một phần tử mới cho dict\n",
    "dict1['IQ'] = '145'\n",
    "print('dict after update: ', dict1)"
   ]
  },
  {
   "cell_type": "markdown",
   "metadata": {},
   "source": [
    "#khởi tạo nhiều giá trị cùng lúc"
   ]
  },
  {
   "cell_type": "code",
   "execution_count": 37,
   "metadata": {},
   "outputs": [
    {
     "data": {
      "text/plain": [
       "{0: [], 1: [], 2: [], 3: []}"
      ]
     },
     "execution_count": 37,
     "metadata": {},
     "output_type": "execute_result"
    }
   ],
   "source": [
    "# Khởi tạo dictionary gồm các keys từ 0 tới 3, giá trị đều là []\n",
    "dict2 = dict.fromkeys(range(4), [])\n",
    "dict2"
   ]
  },
  {
   "cell_type": "code",
   "execution_count": 41,
   "metadata": {},
   "outputs": [
    {
     "name": "stdout",
     "output_type": "stream",
     "text": [
      "{'name': 'khanh', 'age': '27', 'job': 'AI research engineer', 'love': 'girl', 'IQ': '145'}\n",
      "['IQ', 'age', 'job', 'love', 'name']\n"
     ]
    }
   ],
   "source": [
    "#sắp xếp theo khóa(dựa trên kích thước hoặc kiểu dữ liệu của khóa)\n",
    "print(dict1)\n",
    "sorted_keys = sorted(dict1)\n",
    "print(sorted_keys)"
   ]
  },
  {
   "cell_type": "code",
   "execution_count": 42,
   "metadata": {},
   "outputs": [
    {
     "name": "stdout",
     "output_type": "stream",
     "text": [
      "Key: name, Type: <class 'str'>\n",
      "Key: age, Type: <class 'str'>\n",
      "Key: job, Type: <class 'str'>\n",
      "Key: love, Type: <class 'str'>\n",
      "Key: IQ, Type: <class 'str'>\n"
     ]
    }
   ],
   "source": [
    "#kiểm tra kiểu dữ liệu của khóa trong toàn bộ dictionary\n",
    "for key in dict1:\n",
    "    print(f\"Key: {key}, Type: {type(key)}\")"
   ]
  },
  {
   "cell_type": "code",
   "execution_count": null,
   "metadata": {},
   "outputs": [],
   "source": [
    "sorted_dict = {key: dict1[key] for key in sorted(dict1)}\n",
    "print(sorted_dict)\n"
   ]
  },
  {
   "cell_type": "code",
   "execution_count": 43,
   "metadata": {},
   "outputs": [
    {
     "name": "stdout",
     "output_type": "stream",
     "text": [
      "{'IQ': '145', 'age': '27', 'job': 'AI research engineer', 'love': 'girl', 'name': 'khanh'}\n"
     ]
    }
   ],
   "source": [
    "sorted_dict_by_value = {k: v for k, v in sorted(dict1.items(), key=lambda item: item[1])}\n",
    "print(sorted_dict_by_value)"
   ]
  }
 ],
 "metadata": {
  "kernelspec": {
   "display_name": "Python 3",
   "language": "python",
   "name": "python3"
  },
  "language_info": {
   "codemirror_mode": {
    "name": "ipython",
    "version": 3
   },
   "file_extension": ".py",
   "mimetype": "text/x-python",
   "name": "python",
   "nbconvert_exporter": "python",
   "pygments_lexer": "ipython3",
   "version": "3.12.5"
  }
 },
 "nbformat": 4,
 "nbformat_minor": 2
}
