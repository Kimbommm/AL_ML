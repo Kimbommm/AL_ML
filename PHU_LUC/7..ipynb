{
 "cells": [
  {
   "cell_type": "markdown",
   "metadata": {},
   "source": [
    "1.1/ CÁC ĐỊNH DẠNG SỐ, BOOLEAN VÀ KÍ TỰ"
   ]
  },
  {
   "cell_type": "markdown",
   "metadata": {},
   "source": [
    "1.1.1/ Kiểu numeric (là kiểu số bao gồm số thập phân và số nguyên)"
   ]
  },
  {
   "cell_type": "code",
   "execution_count": null,
   "metadata": {},
   "outputs": [],
   "source": [
    "import numpy as np"
   ]
  },
  {
   "cell_type": "code",
   "execution_count": 1,
   "metadata": {},
   "outputs": [
    {
     "name": "stdout",
     "output_type": "stream",
     "text": [
      "2.5 0.5 3.0 0.3\n"
     ]
    }
   ],
   "source": [
    "x = 1.5\n",
    "add = x+1\n",
    "minus = x-1\n",
    "mul = x*2\n",
    "div = x/5\n",
    "print(add, minus, mul, div)"
   ]
  },
  {
   "cell_type": "markdown",
   "metadata": {},
   "source": [
    "Khi thực hiện các phép +,-,*,/ giữa hai số khác nhau về định dạng dữ liệu thì định dạng dữ liệu của kết quả trả về sẽ có định dạng dữ liệu là kiểu được ưu tiên hơn. Thứ tự ưu tiên: float > integer >  boolean."
   ]
  },
  {
   "cell_type": "code",
   "execution_count": 2,
   "metadata": {},
   "outputs": [
    {
     "name": "stdout",
     "output_type": "stream",
     "text": [
      "<class 'float'>\n",
      "<class 'float'>\n",
      "<class 'float'>\n",
      "<class 'float'>\n"
     ]
    }
   ],
   "source": [
    "x = 2.5\n",
    "y = 1\n",
    "print(type(x+y))\n",
    "print(type(x-y))\n",
    "print(type(x*y))\n",
    "print(type(x/y))"
   ]
  },
  {
   "cell_type": "markdown",
   "metadata": {},
   "source": [
    "1.1.2/ Kiểu boolean"
   ]
  },
  {
   "cell_type": "code",
   "execution_count": 3,
   "metadata": {},
   "outputs": [
    {
     "name": "stdout",
     "output_type": "stream",
     "text": [
      "and:  False False\n",
      "or:  True True\n",
      "x*y:  0\n",
      "x+y:  1\n",
      "x/z:  0.2\n"
     ]
    }
   ],
   "source": [
    "x = True\n",
    "y = False\n",
    "z = 5\n",
    "print('and: ', x&y, x and y)\n",
    "print('or: ', x|y, x or y)\n",
    "print('x*y: ', x*y)\n",
    "print('x+y: ', x+y)\n",
    "print('x/z: ', x/z)"
   ]
  }
 ],
 "metadata": {
  "kernelspec": {
   "display_name": "Python 3",
   "language": "python",
   "name": "python3"
  },
  "language_info": {
   "codemirror_mode": {
    "name": "ipython",
    "version": 3
   },
   "file_extension": ".py",
   "mimetype": "text/x-python",
   "name": "python",
   "nbconvert_exporter": "python",
   "pygments_lexer": "ipython3",
   "version": "3.12.5"
  }
 },
 "nbformat": 4,
 "nbformat_minor": 2
}
